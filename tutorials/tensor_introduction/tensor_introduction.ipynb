{
  "cells": [
    {
      "cell_type": "markdown",
      "metadata": {
        "id": "XyvRjmDta9D8"
      },
      "source": [
        "## Basic Setup\n",
        "\n",
        "Run the cells below for the basic setup of this notebook."
      ]
    },
    {
      "cell_type": "code",
      "execution_count": 2,
      "metadata": {
        "id": "Id6wMlhua9D9"
      },
      "outputs": [],
      "source": [
        "import os\n",
        "\n",
        "base_folder = 'tensor_introduction'\n",
        "control_folder = f'{base_folder}/control_values'"
      ]
    },
    {
      "cell_type": "code",
      "source": [
        "!git clone https://github.com/kilianmandon/alphafold-decoded"
      ],
      "metadata": {
        "colab": {
          "base_uri": "https://localhost:8080/"
        },
        "id": "WunXyA5fpEGJ",
        "outputId": "bae009bd-9bcc-4577-9941-8024f39af044"
      },
      "execution_count": 3,
      "outputs": [
        {
          "output_type": "stream",
          "name": "stdout",
          "text": [
            "Cloning into 'alphafold-decoded'...\n",
            "remote: Enumerating objects: 1094, done.\u001b[K\n",
            "remote: Counting objects: 100% (909/909), done.\u001b[K\n",
            "remote: Compressing objects: 100% (579/579), done.\u001b[K\n",
            "remote: Total 1094 (delta 537), reused 691 (delta 325), pack-reused 185 (from 1)\u001b[K\n",
            "Receiving objects: 100% (1094/1094), 60.23 MiB | 13.35 MiB/s, done.\n",
            "Resolving deltas: 100% (547/547), done.\n"
          ]
        }
      ]
    },
    {
      "cell_type": "code",
      "source": [
        "!cp -r alphafold-decoded/tutorials/tensor_introduction ./tensor_introduction"
      ],
      "metadata": {
        "id": "n6-yjbiBpPg9"
      },
      "execution_count": 4,
      "outputs": []
    },
    {
      "cell_type": "code",
      "execution_count": 1,
      "metadata": {
        "id": "BabW_BcXa9D9"
      },
      "outputs": [],
      "source": [
        "%matplotlib inline"
      ]
    },
    {
      "cell_type": "code",
      "execution_count": 5,
      "metadata": {
        "id": "QYfCZAh6a9D9"
      },
      "outputs": [],
      "source": [
        "import torch\n",
        "import math\n",
        "import torchvision\n",
        "from torchvision import transforms\n",
        "from matplotlib import pyplot as plt"
      ]
    },
    {
      "cell_type": "code",
      "execution_count": 6,
      "metadata": {
        "colab": {
          "base_uri": "https://localhost:8080/"
        },
        "id": "eV3c3tnja9D9",
        "outputId": "d4406bb5-454a-4058-be17-7b2e25b72745"
      },
      "outputs": [
        {
          "output_type": "execute_result",
          "data": {
            "text/plain": [
              "<torch.autograd.grad_mode.set_grad_enabled at 0x7bb9a25f2ef0>"
            ]
          },
          "metadata": {},
          "execution_count": 6
        }
      ],
      "source": [
        "torch.set_grad_enabled(False)"
      ]
    },
    {
      "cell_type": "markdown",
      "metadata": {
        "id": "FCdFgRGFa9D-"
      },
      "source": [
        "# Tensor Introduction"
      ]
    },
    {
      "cell_type": "markdown",
      "metadata": {
        "id": "Y0qqveVMa9D-"
      },
      "source": [
        "## Section 1: The Basics\n",
        "\n",
        "A tensor is a multi-dimensional array of numerical values. A scalar (a number) is a 0th-order tensor, a vector is a 1st-order tensor, and a matrix is a 2nd-order tensor. Tensors of higher order extend this concept into additional dimensions. A colored image for example, is usually represented by a three-dimensional tensor of shape (3, H, W), where H and W are the height and width of  the image in pixels. You can think of this as three matrices stacked behind each other.\n",
        "\n",
        "In this section, we want to cover the creation of tensors, basic pointwise operations and datatypes."
      ]
    },
    {
      "cell_type": "markdown",
      "metadata": {
        "id": "IEPFb5awa9D-"
      },
      "source": [
        "`torch.tensor()` is the most basic function to create tensors in pytorch. It takes a nested list as an argument and converts it to a tensor. The nested list must be in block shape already, a jagged list like [[5], [5,3]] can't be converted into a tensor."
      ]
    },
    {
      "cell_type": "code",
      "execution_count": 9,
      "metadata": {
        "colab": {
          "base_uri": "https://localhost:8080/"
        },
        "id": "qcGUuK-Ua9D-",
        "outputId": "bebbdaf5-3e24-400d-f7d7-760650bd37d2"
      },
      "outputs": [
        {
          "output_type": "stream",
          "name": "stdout",
          "text": [
            "torch.Size([5])\n",
            "torch.Size([2, 3])\n",
            "torch.Size([1, 2, 1])\n"
          ]
        }
      ],
      "source": [
        "A = None\n",
        "B = None\n",
        "C = None\n",
        "\n",
        "# Example:\n",
        "ex = torch.tensor([[1, 2, 3], [4, 6, 6]])\n",
        "ex_shape = ex.shape\n",
        "# ex:\n",
        "# tensor([[1, 2, 3],\n",
        "#         [4, 6, 6]])\n",
        "# ex_shape: (2, 3)\n",
        "\n",
        "\n",
        "##########################################################################\n",
        "# TODO: Use torch.tensor() to create tensors of shape (5,),              #\n",
        "#       (2,3) and (1, 2, 1).                                             #\n",
        "##########################################################################\n",
        "\n",
        "# Replace \"pass\" statement with your code\n",
        "A = torch.tensor([1, 2, 3, 4, 5], )\n",
        "B = torch.tensor([[1,2,3], [4, 5, 6]])\n",
        "C = torch.tensor([[[2], [1]]])\n",
        "\n",
        "print(A.shape)\n",
        "print(B.shape)\n",
        "print(C.shape)\n",
        "\n",
        "##########################################################################\n",
        "#               END OF YOUR CODE                                         #\n",
        "##########################################################################\n",
        "\n",
        "# End of your code\n",
        "\n",
        "assert A.shape == (5,)\n",
        "assert B.shape == (2,3)\n",
        "assert C.shape == (1,2,1)"
      ]
    },
    {
      "cell_type": "markdown",
      "metadata": {
        "id": "SEEKszPva9D-"
      },
      "source": [
        "There are two important methods that specifically create one-dimensional tensors: `torch.linspace` and `torch.arange`. `torch.linspace(start, end, steps)` creates evenly spaced values from `start` to `end`, including both `start` and `end`. `torch.arange` is usually used to create integers from 0 to N-1.\n"
      ]
    },
    {
      "cell_type": "code",
      "execution_count": 10,
      "metadata": {
        "colab": {
          "base_uri": "https://localhost:8080/"
        },
        "id": "ZP7xEX8Sa9D-",
        "outputId": "e08727dd-25f8-4572-f86d-278f7809fbad"
      },
      "outputs": [
        {
          "output_type": "stream",
          "name": "stdout",
          "text": [
            "torch.Size([4])\n",
            "torch.Size([6])\n"
          ]
        }
      ],
      "source": [
        "A = None\n",
        "B = None\n",
        "\n",
        "# Example:\n",
        "# ex1 = torch.linspace(0, 1, steps=5)\n",
        "# ex1 is [0, 0.25, 0.5, 0.75, 1]\n",
        "# ex2 = torch.arange(3)\n",
        "# ex2 is [0, 1, 2]\n",
        "\n",
        "##########################################################################\n",
        "# TODO: Use the methods to create the following tensors:                 #\n",
        "#   A = [-0.4, -0.2, 0, 0.2] and B = [0, 1, 2, 3, 4, 5]                  #\n",
        "##########################################################################\n",
        "\n",
        "# Replace \"pass\" statement with your code\n",
        "A = torch.linspace(-0.4, 0.2, steps=4)\n",
        "B = torch.arange(6)\n",
        "\n",
        "print(A.shape)\n",
        "print(B.shape)\n",
        "\n",
        "##########################################################################\n",
        "#               END OF YOUR CODE                                         #\n",
        "##########################################################################\n",
        "\n",
        "assert torch.allclose(A, torch.tensor([-0.4, -0.2, 0, 0.2]))\n",
        "assert torch.allclose(B, torch.tensor([0,1,2,3,4,5]))"
      ]
    },
    {
      "cell_type": "markdown",
      "metadata": {
        "id": "EcLvmFw5a9D-"
      },
      "source": [
        "Other important methods that are often used to create tensors are `torch.zeros`, `torch.ones`, and `torch.randn` (standard normal distribution) or `torch.rand` (uniform distribution on $[0, 1)$)\n",
        "\n",
        "All of these methods take the shape of the tensor to be created as input.\n",
        "\n"
      ]
    },
    {
      "cell_type": "code",
      "execution_count": 11,
      "metadata": {
        "colab": {
          "base_uri": "https://localhost:8080/"
        },
        "id": "ailgQuu3a9D-",
        "outputId": "07685ef8-c7cf-42a2-c79d-5f139ea1ff45"
      },
      "outputs": [
        {
          "output_type": "stream",
          "name": "stdout",
          "text": [
            "tensor([[[0., 0.],\n",
            "         [0., 0.],\n",
            "         [0., 0.]],\n",
            "\n",
            "        [[0., 0.],\n",
            "         [0., 0.],\n",
            "         [0., 0.]],\n",
            "\n",
            "        [[0., 0.],\n",
            "         [0., 0.],\n",
            "         [0., 0.]],\n",
            "\n",
            "        [[0., 0.],\n",
            "         [0., 0.],\n",
            "         [0., 0.]],\n",
            "\n",
            "        [[0., 0.],\n",
            "         [0., 0.],\n",
            "         [0., 0.]]])\n",
            "tensor([5., 5., 5., 5., 5., 5., 5., 5., 5., 5., 5., 5., 5., 5., 5., 5., 5., 5.,\n",
            "        5., 5., 5., 5., 5., 5., 5., 5., 5., 5., 5., 5., 5., 5., 5., 5., 5., 5.,\n",
            "        5., 5., 5., 5., 5., 5., 5., 5., 5., 5., 5., 5., 5., 5., 5., 5., 5., 5.,\n",
            "        5., 5., 5., 5., 5., 5., 5., 5., 5., 5., 5., 5., 5., 5., 5., 5., 5., 5.,\n",
            "        5., 5., 5., 5., 5., 5., 5., 5., 5., 5., 5., 5., 5., 5., 5., 5., 5., 5.,\n",
            "        5., 5., 5., 5., 5., 5., 5., 5., 5., 5.])\n"
          ]
        }
      ],
      "source": [
        "A = None\n",
        "B = None\n",
        "C = None\n",
        "\n",
        "# Example:\n",
        "# ex = torch.zeros((2, 2))\n",
        "# tensor([[0., 0.],\n",
        "#         [0., 0.]])\n",
        "\n",
        "##########################################################################\n",
        "# TODO: Use the methods to create:                                       #\n",
        "# 1. zeros of shape (5, 3, 2)                                            #\n",
        "# 2. fives of shape (100,) (use `torch.ones` and scale it)               #\n",
        "# 3. standard normal distribution of shape (10, 10, 10)                  #\n",
        "##########################################################################\n",
        "\n",
        "# Replace \"pass\" statement with your code\n",
        "A = torch.zeros((5, 3, 2))\n",
        "B = torch.ones((100, )) * 5\n",
        "C = torch.randn(10, 10, 10)\n",
        "\n",
        "print(A)\n",
        "print(B)\n",
        "# print(C)\n",
        "\n",
        "##########################################################################\n",
        "#               END OF YOUR CODE                                         #\n",
        "##########################################################################\n",
        "\n",
        "assert A.shape == (5,3,2) and torch.allclose(A, torch.tensor([0.0]))\n",
        "assert B.shape == (100,) and torch.allclose(B, torch.tensor([5.0]))\n",
        "assert C.shape == (10,10,10)"
      ]
    },
    {
      "cell_type": "markdown",
      "metadata": {
        "id": "xeJ_CJiHa9D_"
      },
      "source": [
        "You can use most basic operations like +, -, *, /, >, <, == on tensors of the same shape or, or on tensors and scalars."
      ]
    },
    {
      "cell_type": "code",
      "execution_count": 13,
      "metadata": {
        "colab": {
          "base_uri": "https://localhost:8080/"
        },
        "id": "9aoGy5aOa9D_",
        "outputId": "8cfbf37a-bc2c-4ca6-ccd1-7b570d7ad7d2"
      },
      "outputs": [
        {
          "output_type": "stream",
          "name": "stdout",
          "text": [
            "tensor(3.0037)\n",
            "tensor(0.4997)\n"
          ]
        }
      ],
      "source": [
        "A = None\n",
        "B = None\n",
        "C = None\n",
        "\n",
        "# Example:\n",
        "# ex = torch.tensor([-1, 2, -3])\n",
        "# ex_bool = ex < 0\n",
        "# Result: torch.tensor([True, False, True])\n",
        "\n",
        "##########################################################################\n",
        "# TODO:                                                                  #\n",
        "# 1. Try out + or *: Create a tensor A where each element is 384, by     #\n",
        "#     creating to tensors A1 and A2 first (choose their values)          #\n",
        "#     followed by A = A1 * A2, or A = A1 + A2. Choose any shape.         #\n",
        "# 2. Create a linspace with 6 values between -0.6 and 0.3 and            #\n",
        "#     compute which elements are smaller than -0.1.                      #\n",
        "# 3. sample normally distributed values of shape (100,100,100) with      #\n",
        "#     mean 0.5 and standard deviation 3.0 by scaling and adding          #\n",
        "#     to the standard normal distribution `torch.randn(size)`.           #\n",
        "##########################################################################\n",
        "\n",
        "# Replace \"pass\" statement with your code\n",
        "A1 = torch.ones((3, 4)) * 48\n",
        "A2 = torch.ones((3, 4)) * 8\n",
        "A = A1 * A2\n",
        "\n",
        "B = torch.linspace(-0.6, 0.3, steps=6) < -0.1\n",
        "\n",
        "C = 0.5 + 3.0 * torch.randn(100, 100, 100)\n",
        "print(C.std())\n",
        "print(C.mean())\n",
        "\n",
        "##########################################################################\n",
        "#               END OF YOUR CODE                                         #\n",
        "##########################################################################\n",
        "\n",
        "assert torch.allclose(A, torch.tensor([384.0]))\n",
        "assert torch.all(B == torch.tensor([True, True, True, False, False, False]))\n",
        "assert abs(C.std()-3.0)<0.05 and abs(C.mean() - 0.5) < 0.05"
      ]
    },
    {
      "cell_type": "markdown",
      "metadata": {
        "id": "fVKwaP2aa9D_"
      },
      "source": [
        "Tensors can have different datatypes. The most important ones for our project are `long` (`torch.int64`), `float` (`torch.float32`) and `bool` (`torch.bool`). We'll sometimes use `double` (`torch.float64`) for checks on your implementation. It's for floating point numbers like `float`, but with higher precision and more memory consumption.\n",
        "\n",
        "You can cast a tensors with a syntax like `A.long()` or `A.to(torch.int64)`.\n",
        "\n",
        "When converting from float to long (or to int), the decimal part is simply dropped. When converting from bool to float, True is converted to 1.0 and False to 0.0. When going from float or long to bool, non-zero values are interpreted as True, while zero values are interpreted as False.\n"
      ]
    },
    {
      "cell_type": "code",
      "execution_count": 14,
      "metadata": {
        "id": "cdygv2gva9D_"
      },
      "outputs": [],
      "source": [
        "A = None\n",
        "entry_count = None\n",
        "\n",
        "##########################################################################\n",
        "# TODO:                                                                  #\n",
        "# 1. Create linspace(-2, 3, 5) and cast it to long.                      #\n",
        "# 2. Sample uniform values of shape (100, 200, 50) and count how many    #\n",
        "#     elements are smaller than 0.2. You can use torch.sum() to sum      #\n",
        "#     all elements in a tensor.                                          #\n",
        "##########################################################################\n",
        "\n",
        "# Replace \"pass\" statement with your code\n",
        "A = torch.linspace(-2, 3, 5).to(torch.int64)\n",
        "entry_count = torch.sum(torch.rand(100, 200, 50) < 0.2)\n",
        "\n",
        "##########################################################################\n",
        "#               END OF YOUR CODE                                         #\n",
        "##########################################################################\n",
        "\n",
        "assert torch.all(A == torch.tensor([-2, 0, 0, 1, 3]))\n",
        "assert abs(entry_count/(100*200*50) - 0.2) < 5e-3"
      ]
    },
    {
      "cell_type": "markdown",
      "metadata": {
        "id": "UXOhzBJ-a9D_"
      },
      "source": [
        "## Section 2: Tensor Manipulation"
      ]
    },
    {
      "cell_type": "markdown",
      "metadata": {
        "id": "MDyT0xDTa9D_"
      },
      "source": [
        "### Understanding Shapes\n",
        "The shape of a tensor is a tuple consisting of the size of each dimension. Tensors can be reshaped without changing the underlying data using functions like `torch.reshape()`, `torch.view()`, and `torch.transpose()`. `torch.reshape` and `torch.view` take the new shape of the tensor as argument, while `torch.transpose` takes the indices of the two dimension that you want to swap.\n",
        "\n",
        "The difference between `view()`and `reshape()` is subtle. `view()` will always try to use the same underlying data and will throw an error if this is not possible, while `reshape()` will try to create a view, but will copy the data if it's not possible."
      ]
    },
    {
      "cell_type": "markdown",
      "metadata": {
        "id": "OwZP00Efa9D_"
      },
      "source": [
        "Use `torch.arange` and the new commands to create the desired outputs."
      ]
    },
    {
      "cell_type": "code",
      "execution_count": 17,
      "metadata": {
        "colab": {
          "base_uri": "https://localhost:8080/"
        },
        "id": "glnxwYjua9D_",
        "outputId": "4a4ad587-3c99-4a9e-b0b8-15fa031e74f3"
      },
      "outputs": [
        {
          "output_type": "stream",
          "name": "stdout",
          "text": [
            "tensor([[ 0,  1,  2],\n",
            "        [ 3,  4,  5],\n",
            "        [ 6,  7,  8],\n",
            "        [ 9, 10, 11]])\n",
            "tensor([[ 0,  1,  2,  3],\n",
            "        [ 4,  5,  6,  7],\n",
            "        [ 8,  9, 10, 11]])\n",
            "tensor([[ 0,  4,  8],\n",
            "        [ 1,  5,  9],\n",
            "        [ 2,  6, 10],\n",
            "        [ 3,  7, 11]])\n"
          ]
        }
      ],
      "source": [
        "A = None\n",
        "B = None\n",
        "C = None\n",
        "correct_A = torch.tensor([\n",
        "    [0, 1, 2],\n",
        "    [3, 4, 5],\n",
        "    [6, 7, 8],\n",
        "    [9, 10, 11],\n",
        "])\n",
        "correct_B = torch.tensor([\n",
        "    [0, 1, 2, 3],\n",
        "    [4, 5, 6, 7],\n",
        "    [8, 9, 10, 11],\n",
        "])\n",
        "correct_C = torch.tensor([\n",
        "    [0, 4, 8],\n",
        "    [1,  5, 9],\n",
        "    [2, 6, 10],\n",
        "    [3, 7, 11],\n",
        "])\n",
        "\n",
        "##########################################################################\n",
        "# TODO: Use reshape/view and transpose to construct the tensors above    #\n",
        "#        from a linear torch.arange tensor.                              #\n",
        "##########################################################################\n",
        "\n",
        "# Replace \"pass\" statement with your code\n",
        "A = torch.arange(12).view(4, 3)\n",
        "B = torch.arange(12).reshape(3, 4)\n",
        "C = B.transpose(0,1)\n",
        "\n",
        "print(A)\n",
        "print(B)\n",
        "print(C)\n",
        "##########################################################################\n",
        "#               END OF YOUR CODE                                         #\n",
        "##########################################################################\n",
        "\n",
        "assert torch.all(A == correct_A)\n",
        "assert torch.all(B == correct_B)\n",
        "assert torch.all(C == correct_C)"
      ]
    },
    {
      "cell_type": "markdown",
      "metadata": {
        "id": "mscSgG1La9D_"
      },
      "source": [
        "### Indexing and Slicing\n",
        "Tensors support Python-like indexing to access elements, as well as more advanced slicing techniques to select ranges and sub-tensors."
      ]
    },
    {
      "cell_type": "markdown",
      "metadata": {
        "id": "CCnL7X8ha9D_"
      },
      "source": [
        "Single Value Access: Use square brackets [] with an integer index to access a single element. The index starts from 0, where 0 refers to the first element.\n",
        "\n",
        "Slicing a Sub-tensor: Extract a contiguous sub-tensor using a colon : to separate the starting and ending indices (exclusive of the ending index).  Omitting the starting index defaults to the beginning, and omitting the ending index defaults to the end.\n",
        "\n",
        "Negative Indexing: Negative indices are supported, allowing you to index from the end of a dimension. For example, tensor[-1] refers to the last element in the tensor.\n",
        "\n",
        "Newaxis (Adding Dimensions): Use None or newaxis to insert a new dimension of size 1 at a specific position in the indexing expression. This is useful for broadcasting operations.\n",
        "\n",
        "Boolean Indexing:  You can use a boolean tensor (having the same shape as the tensor you want to index) as an index.  Elements where the boolean tensor has True are selected, and those corresponding to False are omitted in the result.\n",
        "\n"
      ]
    },
    {
      "cell_type": "markdown",
      "metadata": {
        "id": "pNsAIXRxa9D_"
      },
      "source": [
        "Use these indexing techniques to get the following values from the provided array:\n",
        "* element at row with index 1, column with index 2 (use .item() to get the value instead of a 0-dimensional tensor)\n",
        "* all elements in the row with index 1\n",
        "* the last column (use negative indexing)\n",
        "* the same array, but with an additional dimension 1 introduced between the row and column dimension and without the third column.\n",
        "* a boolean mask representing all the values equal to 2\n",
        "* a copy of the array, where all 2-values are set to -1"
      ]
    },
    {
      "cell_type": "code",
      "execution_count": 19,
      "metadata": {
        "id": "NlGR28Jqa9D_"
      },
      "outputs": [],
      "source": [
        "A = torch.tensor([\n",
        "        [3, 0, 1],\n",
        "        [1, 1, 2],\n",
        "        [2, 1, 0],\n",
        "        [1, 1, 1]])\n",
        "\n",
        "single_value = None\n",
        "row = None\n",
        "column = None\n",
        "unsqueezed = None\n",
        "mask = None\n",
        "no_2s = None\n",
        "\n",
        "##########################################################################\n",
        "# TODO: Use indexing to retrieve the elements described above.           #\n",
        "##########################################################################\n",
        "\n",
        "# Replace \"pass\" statement with your code\n",
        "single_value = A[1,2].item()\n",
        "row = A[1, ]\n",
        "column = A[:, -1]\n",
        "unsqueezed = A[:, None, :-1]\n",
        "mask = A==2\n",
        "no_2s = A.clone()\n",
        "no_2s[mask] = -1\n",
        "\n",
        "\n",
        "##########################################################################\n",
        "#               END OF YOUR CODE                                         #\n",
        "##########################################################################\n",
        "\n",
        "assert single_value == 2\n",
        "assert torch.all(row == torch.tensor([1,1,2]))\n",
        "assert torch.all(column == torch.tensor([1,2,0,1]))\n",
        "assert torch.all(unsqueezed == torch.tensor([[[3, 0]],[[1, 1]],[[2, 1]],[[1, 1]]]))\n",
        "assert torch.all(mask == torch.tensor([[False, False, False],[False, False,  True],[ True, False, False],[False, False, False]]))\n",
        "assert torch.all(no_2s == torch.tensor([[ 3,  0,  1],[ 1,  1, -1],[-1,  1,  0],[ 1,  1,  1]]))\n",
        "\n",
        "\n"
      ]
    },
    {
      "cell_type": "markdown",
      "metadata": {
        "id": "dw-z9AZ7a9D_"
      },
      "source": [
        "### Broadcasting  \n",
        "Broadcasting  allows element-wise operations between tensors with compatible shapes.  Rules govern how tensor dimensions are expanded to facilitate these operations.\n",
        "\n",
        "The rules are the following:\n",
        "* dimensions are aligned starting with the right-most dimension\n",
        "* all dimensions must each agree or be 1 for one of the tensors\n",
        "* if the number of dimensions is smaller for one of the tensors, 1-dimensions are prepended until the dimensions match\n",
        "\n",
        "When one of the dimensions is 1 while the other is not, the tensor is copied along this dimension to match the shape of the other tensor."
      ]
    },
    {
      "cell_type": "code",
      "execution_count": 37,
      "metadata": {
        "colab": {
          "base_uri": "https://localhost:8080/"
        },
        "id": "TMJ7zKexa9EA",
        "outputId": "640706fd-bc77-4180-bbca-f23f26a6279a"
      },
      "outputs": [
        {
          "output_type": "stream",
          "name": "stdout",
          "text": [
            "tensor([[ 0,  1,  2],\n",
            "        [ 3,  4,  5],\n",
            "        [ 6,  7,  8],\n",
            "        [ 9, 10, 11]])\n",
            "\n",
            "torch.Size([4])\n",
            "tensor([[0],\n",
            "        [3],\n",
            "        [6],\n",
            "        [9]])\n",
            "\n",
            "tensor([0, 3, 6, 9])\n"
          ]
        }
      ],
      "source": [
        "A = torch.arange(12).reshape(4,3)\n",
        "added_row = None\n",
        "added_column = None\n",
        "\n",
        "##########################################################################\n",
        "# TODO: Use broadcasting to:                                             #\n",
        "# 1. Compute a matrix, where the first row of A is added to all rows     #\n",
        "#     of A (including the first).                                        #\n",
        "# 2. Compute a matrix, where the first column of A is added to all       #\n",
        "#     other columns of A (excluding the first).                          #\n",
        "#                                                                        #\n",
        "# You might need to introduce new 1-dimensions to fullfill the           #\n",
        "#  requirements for broadcasting.                                        #\n",
        "##########################################################################\n",
        "\n",
        "# Replace \"pass\" statement with your code\n",
        "added_row = A + A[0,:]\n",
        "\n",
        "print(A)\n",
        "print(\"\")\n",
        "fc = A[:, 0]\n",
        "print(fc.shape)\n",
        "print(fc.reshape(4,1))\n",
        "print(\"\")\n",
        "print(A[:, 0])\n",
        "added_column = A.clone()\n",
        "added_column[:, 1:] += A[:, 0].reshape(4,1)\n",
        "##########################################################################\n",
        "#               END OF YOUR CODE                                         #\n",
        "##########################################################################\n",
        "\n",
        "assert torch.all(added_row==torch.tensor([[ 0,  2,  4],[ 3,  5,  7],[ 6,  8, 10],[ 9, 11, 13]]))\n",
        "assert torch.all(added_column == torch.tensor([[ 0,  1,  2],[ 3,  7,  8],[6, 13, 14],[9, 19, 20]])\n",
        ")"
      ]
    },
    {
      "cell_type": "markdown",
      "metadata": {
        "id": "kmGAL7AAa9EA"
      },
      "source": [
        "Broadcasting often plays a special role when performing 'each-with-each' operations, like the outer sum of two vectors. Use broadcasting two compute the outer sum, i.e. a matrix where the entry [i, j] is the sum of v[i] and w[j] by first introducing new 1-dimensions at the correct positions."
      ]
    },
    {
      "cell_type": "code",
      "execution_count": 40,
      "metadata": {
        "colab": {
          "base_uri": "https://localhost:8080/"
        },
        "id": "jeIshMMua9EA",
        "outputId": "ea517969-1448-40c4-acf3-0cefa2068b79"
      },
      "outputs": [
        {
          "output_type": "stream",
          "name": "stdout",
          "text": [
            "tensor([0, 1, 2])\n",
            "tensor([0, 1, 2, 3])\n",
            "tensor([[0],\n",
            "        [1],\n",
            "        [2]])\n",
            "tensor([[0, 1, 2, 3]])\n",
            "tensor([[0, 1, 2, 3],\n",
            "        [1, 2, 3, 4],\n",
            "        [2, 3, 4, 5]])\n"
          ]
        }
      ],
      "source": [
        "v = torch.arange(3)\n",
        "w = torch.arange(4)\n",
        "outer_sum = None\n",
        "\n",
        "##########################################################################\n",
        "# TODO: Compute the outer sum of v and w.                                #\n",
        "##########################################################################\n",
        "\n",
        "# Replace \"pass\" statement with your code\n",
        "print(v)\n",
        "print(w)\n",
        "v = v.reshape(3, 1)\n",
        "w = w.reshape(1, 4)\n",
        "print(v)\n",
        "print(w)\n",
        "\n",
        "outer_sum = v + w\n",
        "print(outer_sum)\n",
        "\n",
        "##########################################################################\n",
        "#               END OF YOUR CODE                                         #\n",
        "##########################################################################\n",
        "assert torch.all(outer_sum==torch.tensor([[0, 1, 2, 3],[1, 2, 3, 4],[2, 3, 4, 5]]))"
      ]
    },
    {
      "cell_type": "markdown",
      "metadata": {
        "id": "OEI-fhwTa9EA"
      },
      "source": [
        "Some operations in pytorch don't allow implicit broadcasting, and we need to broadcast the values explicitly with `torch.broadcast_to()`"
      ]
    },
    {
      "cell_type": "code",
      "execution_count": 57,
      "metadata": {
        "colab": {
          "base_uri": "https://localhost:8080/"
        },
        "id": "TUcyxJsfa9EA",
        "outputId": "ecb0efd5-0b1d-4553-b650-1defe532a1ca"
      },
      "outputs": [
        {
          "output_type": "stream",
          "name": "stdout",
          "text": [
            "torch.Size([6])\n",
            "torch.Size([6, 1])\n",
            "tensor([[[0, 0, 0],\n",
            "         [1, 1, 1],\n",
            "         [2, 2, 2],\n",
            "         [3, 3, 3],\n",
            "         [4, 4, 4],\n",
            "         [5, 5, 5]],\n",
            "\n",
            "        [[0, 0, 0],\n",
            "         [1, 1, 1],\n",
            "         [2, 2, 2],\n",
            "         [3, 3, 3],\n",
            "         [4, 4, 4],\n",
            "         [5, 5, 5]],\n",
            "\n",
            "        [[0, 0, 0],\n",
            "         [1, 1, 1],\n",
            "         [2, 2, 2],\n",
            "         [3, 3, 3],\n",
            "         [4, 4, 4],\n",
            "         [5, 5, 5]],\n",
            "\n",
            "        [[0, 0, 0],\n",
            "         [1, 1, 1],\n",
            "         [2, 2, 2],\n",
            "         [3, 3, 3],\n",
            "         [4, 4, 4],\n",
            "         [5, 5, 5]]])\n"
          ]
        },
        {
          "output_type": "stream",
          "name": "stderr",
          "text": [
            "<ipython-input-57-23ff48bcd230>:4: FutureWarning: You are using `torch.load` with `weights_only=False` (the current default value), which uses the default pickle module implicitly. It is possible to construct malicious pickle data which will execute arbitrary code during unpickling (See https://github.com/pytorch/pytorch/blob/main/SECURITY.md#untrusted-models for more details). In a future release, the default value for `weights_only` will be flipped to `True`. This limits the functions that could be executed during unpickling. Arbitrary objects will no longer be allowed to be loaded via this mode unless they are explicitly allowlisted by the user via `torch.serialization.add_safe_globals`. We recommend you start setting `weights_only=True` for any use case where you don't have full control of the loaded file. Please open an issue on GitHub for any issues related to this experimental feature.\n",
            "  expected_result = torch.load(f'{control_folder}/broadcast_explicit.pt')\n"
          ]
        }
      ],
      "source": [
        "matrix_a = torch.arange(6)\n",
        "matrix_b = torch.arange(6*4*3).reshape(4, 6, 3)\n",
        "\n",
        "expected_result = torch.load(f'{control_folder}/broadcast_explicit.pt')\n",
        "broadcasted_a = None\n",
        "##########################################################################\n",
        "# TODO: Use torch.broadcast_to to broadcast matrix_a to the              #\n",
        "#   shape of matrix_b.                                                   #\n",
        "#                                                                        #\n",
        "# You might need to introduce new 1-dimensions to fullfill the           #\n",
        "#  requirements for broadcasting.                                        #\n",
        "##########################################################################\n",
        "\n",
        "# Replace \"pass\" statement with your code\n",
        "print(matrix_a.shape)\n",
        "matrix_a = matrix_a[:, None]\n",
        "print(matrix_a.shape)\n",
        "broadcasted_a = matrix_a.broadcast_to(matrix_b.shape)\n",
        "print(broadcasted_a)\n",
        "##########################################################################\n",
        "#               END OF YOUR CODE                                         #\n",
        "##########################################################################\n",
        "\n",
        "assert torch.allclose(broadcasted_a, expected_result)"
      ]
    },
    {
      "cell_type": "markdown",
      "metadata": {
        "id": "22C6MJ8Ia9EA"
      },
      "source": [
        "### Flattening and Unflattening\n",
        "\n",
        "- Flattening refers to the process of reducing the number of dimensions in a tensor. This involves combining multiple dimensions into a single dimension. PyTorch provides functions such as torch.flatten(), torch.ravel(), or tensor.view(-1) for this operation.\n",
        "\n",
        "- Unflattening is the reverse process of restoring a higher-dimensional shape from a tensor with a reduced number of dimensions. This typically involves using  torch.reshape() or tensor.view().\n",
        "\n",
        "- The Importance of Dimension Order: The order in which dimensions are arranged matters significantly during both flattening and unflattening. Flattening follows a specific convention (by default row-wise in pytorch), and it's crucial to know this order when unflattening to reconstruct the original shape correctly.\n"
      ]
    },
    {
      "cell_type": "code",
      "execution_count": 25,
      "metadata": {
        "colab": {
          "base_uri": "https://localhost:8080/"
        },
        "id": "isdECYc8a9EA",
        "outputId": "922b1e67-b611-4b94-d939-37e1fc2346ac"
      },
      "outputs": [
        {
          "output_type": "stream",
          "name": "stdout",
          "text": [
            "tensor([[ 0,  1,  2,  3],\n",
            "        [ 4,  5,  6,  7],\n",
            "        [ 8,  9, 10, 11]])\n",
            "\n",
            "tensor([ 0,  1,  2,  3,  4,  5,  6,  7,  8,  9, 10, 11])\n",
            "tensor([ 0,  4,  8,  1,  5,  9,  2,  6, 10,  3,  7, 11])\n",
            "tensor([[ 0,  4,  8,  1],\n",
            "        [ 5,  9,  2,  6],\n",
            "        [10,  3,  7, 11]])\n",
            "matrix shape:  torch.Size([3, 4])\n",
            "Original matrix:\n",
            "tensor([[ 0,  1,  2,  3],\n",
            "        [ 4,  5,  6,  7],\n",
            "        [ 8,  9, 10, 11]])\n",
            "Incorrectly unflattened: \n",
            "tensor([[ 0,  4,  8,  1],\n",
            "        [ 5,  9,  2,  6],\n",
            "        [10,  3,  7, 11]])\n"
          ]
        }
      ],
      "source": [
        "matrix = torch.arange(12).reshape(3, 4)\n",
        "flattened_row_wise = None\n",
        "flattened_column_wise = None\n",
        "incorrect_unflatten = None\n",
        "\n",
        "##########################################################################\n",
        "# TODO: Use flatten, reshape and transpose to                            #\n",
        "# 1. flatten the matrix row-wise.                                        #\n",
        "# 2. flatten the matrix column-wise.                                     #\n",
        "# 3. unflatten the column-wise flattened matrix, as if                   #\n",
        "#     it was flattened row-wise.                                         #\n",
        "##########################################################################\n",
        "\n",
        "# Replace \"pass\" statement with your code\n",
        "flattened_row_wise = matrix.flatten(start_dim=0)\n",
        "print(matrix)\n",
        "print(\"\")\n",
        "print(flattened_row_wise)\n",
        "\n",
        "flattened_column_wise = matrix.transpose(0,1).flatten(start_dim=0)\n",
        "print(flattened_column_wise)\n",
        "\n",
        "# incorrect_unflatten = flattened_column_wise.reshape(matrix.shape)\n",
        "incorrect_unflatten = flattened_column_wise.view(matrix.shape)\n",
        "\n",
        "print(incorrect_unflatten)\n",
        "print(\"matrix shape: \", matrix.shape)\n",
        "\n",
        "\n",
        "##########################################################################\n",
        "#               END OF YOUR CODE                                         #\n",
        "##########################################################################\n",
        "\n",
        "assert torch.all(flattened_row_wise == torch.arange(12))\n",
        "assert torch.all(flattened_column_wise == torch.tensor([0,4,8,1,5,9,2,6,10,3,7,11]))\n",
        "assert torch.all(incorrect_unflatten==torch.tensor([[0, 4, 8, 1],[5, 9, 2, 6],[ 10, 3, 7, 11]]))\n",
        "\n",
        "print('Original matrix:')\n",
        "print(matrix)\n",
        "print('Incorrectly unflattened: ')\n",
        "print(incorrect_unflatten)\n"
      ]
    },
    {
      "cell_type": "markdown",
      "metadata": {
        "id": "HxY6zNAFa9EA"
      },
      "source": [
        "## Section 3: Tensor Reductions\n",
        "\n",
        "PyTorch offers a variety of functions that perform reduction operations on tensors. These operations collapse a tensor along specified dimensions, often resulting in a lower-dimensional tensor or a single scalar value. Examples include calculating the sum, mean, standard deviation (std), or finding the norm of a tensor."
      ]
    },
    {
      "cell_type": "code",
      "execution_count": 38,
      "metadata": {
        "id": "ZFKCZib-a9EA"
      },
      "outputs": [],
      "source": [
        "tensor = torch.arange(12).reshape(3, 4)\n",
        "sum_all = None\n",
        "mean_columns = None\n",
        "std_all = None\n",
        "l2_rows = None\n",
        "\n",
        "##########################################################################\n",
        "# TODO: Use the following reduction operations on the provided tensor.   #\n",
        "# 1. Calculate the sum of all elements (use torch.sum()).                #\n",
        "# 2. Calculate the mean of each column (use torch.mean()).               #\n",
        "# 3. Calculate the standard deviation of all elements (use torch.std()). #\n",
        "# 4. Calculate the L2 norm of each row (use torch.linalg.vector_norm()). #\n",
        "# 5. Try keeping the original dimensions using the `keepdim` argument    #\n",
        "#     in the reduction calls. How do the resulting tensors differ?       #\n",
        "#                                                                        #\n",
        "# You might need to cast the data type for some of the operations and    #\n",
        "#  use .item() to get numbers instead of 0-dimensional tensors.          #\n",
        "##########################################################################\n",
        "\n",
        "# Replace \"pass\" statement with your code\n",
        "sum_all = tensor.sum()\n",
        "mean_columns = tensor.to(torch.float).mean(dim=0)\n",
        "std_all = tensor.to(torch.float).std()\n",
        "l2_rows = torch.linalg.vector_norm(tensor.to(torch.float), dim=1)\n",
        "\n",
        "##########################################################################\n",
        "#               END OF YOUR CODE                                         #\n",
        "##########################################################################\n",
        "\n",
        "assert abs(sum_all-66)<1e-3\n",
        "assert torch.allclose(mean_columns, torch.tensor([4.0,5.0,6.0,7.0]))\n",
        "assert abs(std_all-3.60555) < 1e-3\n",
        "assert torch.allclose(l2_rows, torch.tensor([ 3.7417, 11.2250, 19.1311]), rtol=1e-2)\n",
        "\n"
      ]
    },
    {
      "cell_type": "markdown",
      "metadata": {
        "id": "QTpNhu-9a9EA"
      },
      "source": [
        "## Section 4: The Power of torch.einsum\n",
        "\n",
        "Einstein Summation (einsum) is a concise and powerful notation for specifying complex tensor operations. It offers a flexible way to perform operations like matrix multiplication, dot products, batch calculations, outer products, reductions, and much more.\n",
        "\n",
        "Most calculations in our AlphaFold implementation that are not reshaping or transposing axis will be done with torch.einsum.\n",
        "\n",
        "The Core Idea: torch.einsum() takes an equation string and input tensors as arguments. The equation string dictates how to manipulate and combine the dimensions of the input tensors to produce the desired output tensor.\n",
        "\n",
        "Simply designing the equation so the output dimensions match up is often a good indicator that your expression is on the right track.\n"
      ]
    },
    {
      "cell_type": "code",
      "execution_count": 41,
      "metadata": {
        "colab": {
          "base_uri": "https://localhost:8080/"
        },
        "id": "RMNQz31ca9EA",
        "outputId": "13c8c5a1-af0c-481f-b954-767f9d8f4c2e"
      },
      "outputs": [
        {
          "output_type": "stream",
          "name": "stdout",
          "text": [
            "tensor([[0, 1, 2],\n",
            "        [3, 4, 5]])\n",
            "tensor([0, 1, 2])\n",
            "tensor([[ 0,  1,  4],\n",
            "        [ 0,  4, 10]])\n"
          ]
        }
      ],
      "source": [
        "# Example 1: Matrix Multiplication\n",
        "matrix_a = torch.arange(6).reshape(2, 3)\n",
        "matrix_b = torch.arange(15).reshape(3, 5)\n",
        "# print(matrix_a)\n",
        "# print(matrix_b)\n",
        "result = torch.einsum('ik,kj->ij', matrix_a, matrix_b)\n",
        "# print(result)\n",
        "\n",
        "# Example 2: Element-wise operations\n",
        "a = torch.arange(6).reshape(2, 3)\n",
        "b = torch.arange(3)\n",
        "print(a)\n",
        "print(b)\n",
        "result = torch.einsum('ij,j->ij', a, b)  # Broadcast and multiply\n",
        "print(result)"
      ]
    },
    {
      "cell_type": "markdown",
      "metadata": {
        "id": "OHtG-nR_a9EA"
      },
      "source": [
        "Ellipsis (...) in einsum: The ellipsis (...) is a powerful wildcard notation in torch.einsum  representing one or more unspecified dimensions. It allows you to write einsum expressions that work for tensors with an arbitrary number of prepended batch dimensions.\n",
        "\n",
        "How it simplifies einsum: Without ellipsis, you'd need to explicitly specify every batch dimension in the equation string, which can become cumbersome for tensors with complex shapes. Ellipsis helps write concise and general expressions."
      ]
    },
    {
      "cell_type": "code",
      "execution_count": null,
      "metadata": {
        "id": "7dXygN_Ka9EA"
      },
      "outputs": [],
      "source": [
        "# Batched Matrix Multiplication\n",
        "# matrix_a has shape (5, 3, 2, 3)\n",
        "# matrix_b has shape (5, 3, 3, 5)\n",
        "matrix_a = torch.load(f'{control_folder}/einsum_bmm_a.pt')\n",
        "matrix_b = torch.load(f'{control_folder}/einsum_bmm_b.pt')\n",
        "result = None\n",
        "\n",
        "##########################################################################\n",
        "# TODO: Perform batched matrix multiplication using torch.einsum().      #\n",
        "#  The result should be of shape (5, 3, 2, 5).                           #\n",
        "#  Try do to it both with and without the ellipsis operator.             #\n",
        "##########################################################################\n",
        "\n",
        "# Replace \"pass\" statement with your code\n",
        "pass\n",
        "\n",
        "##########################################################################\n",
        "#               END OF YOUR CODE                                         #\n",
        "##########################################################################\n",
        "\n",
        "expected_result = torch.load(f'{control_folder}/einsum_bmm_result.pt')\n",
        "assert torch.allclose(result, expected_result)"
      ]
    },
    {
      "cell_type": "code",
      "execution_count": null,
      "metadata": {
        "id": "mnSu4L4ca9EF"
      },
      "outputs": [],
      "source": [
        "# Reduction: (Sum over a dimension)\n",
        "tensor = torch.arange(24).reshape(2, 3, 4)\n",
        "expected_result = torch.sum(tensor, dim=1)\n",
        "result = None\n",
        "\n",
        "##########################################################################\n",
        "# TODO: Compute the equivalent of torch.sum with torch.einsum.           #\n",
        "##########################################################################\n",
        "\n",
        "# Replace \"pass\" statement with your code\n",
        "pass\n",
        "\n",
        "##########################################################################\n",
        "#               END OF YOUR CODE                                         #\n",
        "##########################################################################\n",
        "\n",
        "assert torch.allclose(expected_result, result)"
      ]
    },
    {
      "cell_type": "markdown",
      "metadata": {
        "id": "YFC-P0ULa9EF"
      },
      "source": [
        "We'll move on to compute a little more complicated einsum expressions, starting with `scaled_dot_product_attention`, one of the core primitives for AlphaFold.\n",
        "\n",
        "We'll go into more detail on this when we implement MultiHeadAttention later in this series. For now, this is the computation we'll perform:\n",
        "\n",
        "Inputs:\n",
        "- q query vectors of dimension c (represented as a matrix Q of shape (q, c))\n",
        "- k key vectors of dimension c (represented as a matrix K of shape (k, c))\n",
        "- k value vectors of dimension d (represented as matrix V of shape (k, d))"
      ]
    },
    {
      "cell_type": "code",
      "execution_count": null,
      "metadata": {
        "id": "DmzBDwv-a9EG"
      },
      "outputs": [],
      "source": [
        "Q = torch.load(f'{control_folder}/att_Q.pt')\n",
        "K = torch.load(f'{control_folder}/att_K.pt')\n",
        "V = torch.load(f'{control_folder}/att_V.pt')\n",
        "print(Q.shape, K.shape, V.shape)"
      ]
    },
    {
      "cell_type": "markdown",
      "metadata": {
        "id": "5iu2dYFWa9EG"
      },
      "source": [
        "First, we will compute the agreement of Q and K. This is done by computing the dot product of each query vector with each key vector. The result is divided by the square root of c, so that the expected values are independent of c."
      ]
    },
    {
      "cell_type": "code",
      "execution_count": null,
      "metadata": {
        "id": "h9eD0qOUa9EG"
      },
      "outputs": [],
      "source": [
        "raw_attn = None\n",
        "expected_result = torch.load(f'{control_folder}/att_raw_attn.pt')\n",
        "\n",
        "##########################################################################\n",
        "# TODO: Implement the scaled dot product.                                #\n",
        "#   The result should be of shape (q, k).                                #\n",
        "##########################################################################\n",
        "\n",
        "# Replace \"pass\" statement with your code\n",
        "pass\n",
        "\n",
        "##########################################################################\n",
        "#               END OF YOUR CODE                                         #\n",
        "##########################################################################\n",
        "assert torch.allclose(raw_attn, expected_result)"
      ]
    },
    {
      "cell_type": "markdown",
      "metadata": {
        "id": "2xmRU-ota9EG"
      },
      "source": [
        "These raw attention scores are mapped through the softmax function along the key dimension, so that for every query, the values of all keys sum to 1.\n",
        "\n",
        "The softmax function looks like this:\n",
        "\n",
        "$softmax(x)_i =  \\frac{\\exp(x_i)}{\\sum_{j=1}^{K} \\exp(x_j)}$\n",
        "\n",
        "It's main properties are the following:\n",
        "- Individual entries sum to 1, so the result can be interpreted as a probability distribution\n",
        "- If one value was significantly larger (let's say bigger by 6) than the others, softmax will be close to 1 for this value and close to 0 for the others, somewhat like the max  function\n",
        "- Unlike a hard max function, if the biggest values are close to each other, they will have similar scores"
      ]
    },
    {
      "cell_type": "code",
      "execution_count": null,
      "metadata": {
        "id": "D2vOEKYqa9EG"
      },
      "outputs": [],
      "source": [
        "attn = None\n",
        "expected_result = torch.load(f'{control_folder}/att_normalized_attn.pt')\n",
        "##########################################################################\n",
        "# TODO: Use torch.softmax to convert the scores for all queries          #\n",
        "#   to a probability distribution.                                       #\n",
        "##########################################################################\n",
        "\n",
        "# Replace \"pass\" statement with your code\n",
        "pass\n",
        "\n",
        "##########################################################################\n",
        "#               END OF YOUR CODE                                         #\n",
        "##########################################################################\n",
        "\n",
        "assert torch.allclose(attn, expected_result)\n"
      ]
    },
    {
      "cell_type": "markdown",
      "metadata": {
        "id": "Dhw3fGxJa9EG"
      },
      "source": [
        "Last, for each query vector, we'll scale the value vectors by the corresponding attention weights and sum these value vectors."
      ]
    },
    {
      "cell_type": "code",
      "execution_count": null,
      "metadata": {
        "id": "fvEulr5ra9EG"
      },
      "outputs": [],
      "source": [
        "result = None\n",
        "expected_result = torch.load(f'{control_folder}/att_result.pt')\n",
        "\n",
        "##########################################################################\n",
        "# TODO: Use torch.einsum to scale the value vectors by the               #\n",
        "#  corresponding weights and add them up.                                #\n",
        "#  The result should be of shape (q, d).                                 #\n",
        "##########################################################################\n",
        "\n",
        "# Replace \"pass\" statement with your code\n",
        "pass\n",
        "\n",
        "##########################################################################\n",
        "#               END OF YOUR CODE                                         #\n",
        "##########################################################################\n",
        "assert torch.allclose(result, expected_result)"
      ]
    },
    {
      "cell_type": "markdown",
      "metadata": {
        "id": "Ry7BR4tNa9EG"
      },
      "source": [
        "## Section 5: A Practical Example with MNIST\n",
        "\n",
        "In this section, we'll put your newfound tensor skills to practice with a simple image classification task. We'll use PyTorch to load the classic MNIST dataset of handwritten digits, compute average images for each digit, and build a rudimentary classifier based on these averages. While this classifier is basic, it demonstrates how core tensor operations can be used in a real-world machine learning scenario."
      ]
    },
    {
      "cell_type": "markdown",
      "metadata": {
        "id": "sGJfoyhOa9EG"
      },
      "source": [
        "This code cell loads in the dataset. Its content isn't too important to us right now, so feel free to skip over it."
      ]
    },
    {
      "cell_type": "code",
      "execution_count": null,
      "metadata": {
        "id": "oVNgrHwha9EG"
      },
      "outputs": [],
      "source": [
        "\n",
        "# --- Load and Prepare MNIST Dataset ---\n",
        "transform = transforms.Compose([transforms.ToTensor(), transforms.Normalize((0.1307,), (0.3081,))])\n",
        "\n",
        "# Download and split into training and validation sets\n",
        "train_set = torchvision.datasets.MNIST(\n",
        "    root='./data', train=True, download=True, transform=transform)\n",
        "validation_set = torchvision.datasets.MNIST(\n",
        "    root='./data', train=False, download=True, transform=transform)\n",
        "\n",
        "# Load all training and validation images and labels\n",
        "train_loader = torch.utils.data.DataLoader(train_set, batch_size=len(train_set))\n",
        "validation_loader = torch.utils.data.DataLoader(validation_set, batch_size=len(validation_set))\n",
        "\n",
        "train_images, train_labels = next(iter(train_loader))\n",
        "validation_images, validation_labels = next(iter(validation_loader))\n",
        "\n",
        "train_images = train_images.double()\n",
        "validation_images = validation_images.double()"
      ]
    },
    {
      "cell_type": "markdown",
      "metadata": {
        "id": "FSTgaBkUa9EG"
      },
      "source": [
        "With the above code, we loaded in the images and labels as two big tensors, split into training and validation sets.\n",
        "The pixel values are normalized so that they follow a normal distribution with mean 0 and std 1."
      ]
    },
    {
      "cell_type": "code",
      "execution_count": null,
      "metadata": {
        "id": "F5bYz0y_a9EG"
      },
      "outputs": [],
      "source": [
        "print('Validation and training images shape:')\n",
        "print(validation_images.shape)\n",
        "print(train_images.shape)\n",
        "print('')\n",
        "\n",
        "print(f'Mean: {train_images.mean()}')\n",
        "print(f'Std: {train_images.std()}')\n",
        "print('')\n",
        "\n",
        "print('Train labels shape:')\n",
        "print(train_labels.shape)\n",
        "print('Train label values:')\n",
        "print(torch.unique(train_labels))"
      ]
    },
    {
      "cell_type": "markdown",
      "metadata": {
        "id": "tb3ULucda9EG"
      },
      "source": [
        "You can see that the images are of shape (N, 1, H, W). The one represents the channel. If this were an RGB image, the dimension would be three. However, we don't need this dimension in our case, so we will squeeze the tensors to get rid of it."
      ]
    },
    {
      "cell_type": "code",
      "execution_count": null,
      "metadata": {
        "id": "-B-qv0iWa9EG"
      },
      "outputs": [],
      "source": [
        "train_images = train_images.squeeze()\n",
        "validation_images = validation_images.squeeze()\n",
        "print(train_images.shape)\n",
        "print(validation_images.shape)"
      ]
    },
    {
      "cell_type": "markdown",
      "metadata": {
        "id": "pkn8fihha9EH"
      },
      "source": [
        "Let's take a look at some of the images:"
      ]
    },
    {
      "cell_type": "code",
      "execution_count": null,
      "metadata": {
        "id": "vKqCHIlpa9EH"
      },
      "outputs": [],
      "source": [
        "def plot_images(images, nrows=None, ncols=None):\n",
        "    if ncols is None:\n",
        "        ncols = min(len(images), 5)\n",
        "    if nrows is None:\n",
        "        nrows = math.ceil(len(images) / ncols)\n",
        "    fig, axes = plt.subplots(nrows=nrows, ncols=ncols, figsize=(10, 8))\n",
        "\n",
        "    for i, ax in enumerate(axes.flat):\n",
        "        image = images[i].squeeze()\n",
        "        ax.imshow(image, cmap='gray')\n",
        "        ax.axis('off')\n",
        "\n",
        "    plt.tight_layout()\n",
        "    plt.show()"
      ]
    },
    {
      "cell_type": "code",
      "execution_count": null,
      "metadata": {
        "id": "2zgslpSHa9EH"
      },
      "outputs": [],
      "source": [
        "plot_images(train_images[:10,...])"
      ]
    },
    {
      "cell_type": "markdown",
      "metadata": {
        "id": "Vqsi7Voja9EH"
      },
      "source": [
        "### Calculating Averages\n",
        "We want to put the images into 10 groups by their labels. There is a number of ways we could do this:\n",
        "1) Use argsort to sort the labels in ascending order, apply the permutation calculated while sorting to the images, count the number of occurences for each label (with torch.bincount) and split the sorted images accordingly.\n",
        "\n",
        "2) Generate boolean masks for each label and use them to select the correct images (this is probably the easiest one to implement).\n",
        "\n",
        "3) Get the indices of all labels with value $i$, then use these indices with array indexing to get the corresponding images.\n",
        "\n",
        "Choose a method, implement it and use it to get a list of tensors, where the 0th element of the list are the images with label 0 and so on (Could we also stack these tensors to a new tensor with additional dimension 10? If not, why so?)"
      ]
    },
    {
      "cell_type": "code",
      "execution_count": null,
      "metadata": {
        "id": "7UXySolca9EH"
      },
      "outputs": [],
      "source": [
        "split_train_images = []\n",
        "\n",
        "##########################################################################\n",
        "# TODO: Group the images by their label using one of the methods above.  #\n",
        "##########################################################################\n",
        "\n",
        "# Replace \"pass\" statement with your code\n",
        "pass\n",
        "\n",
        "##########################################################################\n",
        "#               END OF YOUR CODE                                         #\n",
        "##########################################################################\n",
        "\n",
        "assert all([len(a) == l for a,l in zip(split_train_images, [5923, 6742, 5958, 6131, 5842, 5421, 5918, 6265, 5851, 5949])])"
      ]
    },
    {
      "cell_type": "markdown",
      "metadata": {
        "id": "pNVvSErua9EH"
      },
      "source": [
        "If your implementation is correct, the image rows should show 0, 1 and 2 accordingly:"
      ]
    },
    {
      "cell_type": "code",
      "execution_count": null,
      "metadata": {
        "id": "dvavrDIPa9EH"
      },
      "outputs": [],
      "source": [
        "for i in range(3):\n",
        "    plot_images(split_train_images[i][:5])"
      ]
    },
    {
      "cell_type": "code",
      "execution_count": null,
      "metadata": {
        "id": "Zn56x--va9EH"
      },
      "outputs": [],
      "source": [
        "mean_images = None\n",
        "expected_result = torch.load(f'{control_folder}/mnist_mean_images.pt')\n",
        "\n",
        "##########################################################################\n",
        "# TODO: Calculate the mean of each image group in the split train images.#\n",
        "#       Stack the mean images with torch.stack, so that the              #\n",
        "#       resulting tensor has shape (10, 28, 28).                         #\n",
        "##########################################################################\n",
        "\n",
        "# Replace \"pass\" statement with your code\n",
        "pass\n",
        "\n",
        "##########################################################################\n",
        "#               END OF YOUR CODE                                         #\n",
        "##########################################################################\n",
        "\n",
        "assert torch.allclose(expected_result, mean_images)"
      ]
    },
    {
      "cell_type": "markdown",
      "metadata": {
        "id": "4_bQK_hAa9EH"
      },
      "source": [
        "Let's take a look at the mean images. They should all be blurry versions of the numbers they represent."
      ]
    },
    {
      "cell_type": "code",
      "execution_count": null,
      "metadata": {
        "id": "5vupWZIEa9EH"
      },
      "outputs": [],
      "source": [
        "plot_images(mean_images)"
      ]
    },
    {
      "cell_type": "markdown",
      "metadata": {
        "id": "kxUnuVpga9EH"
      },
      "source": [
        "We will now use these templates on the validation images and calculate their agreement. In this case, agreement simply means multiplying every pixel in the templates against every pixel from the validation image, then summing them up.\n",
        "To make sure this is a fair metric, we will first normalize the mean_images, so that they have mean 0 and std 1 individually."
      ]
    },
    {
      "cell_type": "code",
      "execution_count": null,
      "metadata": {
        "id": "71NfN3cDa9EH"
      },
      "outputs": [],
      "source": [
        "template_images = None\n",
        "expected_result = torch.load(f'{control_folder}/mnist_normalized_templates.pt')\n",
        "\n",
        "##########################################################################\n",
        "# TODO: Calculate mean and std for each mean_image individually.         #\n",
        "#  You can do this without a loop by choosing the dim argument           #\n",
        "#  from torch.mean(...) and torch.std(...) correctly.                    #\n",
        "#  Then, use the mean and  std to normalize the template images.         #\n",
        "#  keepdim might be helpful here (why?).                                 #\n",
        "##########################################################################\n",
        "\n",
        "# Replace \"pass\" statement with your code\n",
        "pass\n",
        "\n",
        "##########################################################################\n",
        "#               END OF YOUR CODE                                         #\n",
        "##########################################################################\n",
        "\n",
        "assert torch.allclose(template_images, expected_result)\n"
      ]
    },
    {
      "cell_type": "markdown",
      "metadata": {
        "id": "3HhY8GCDa9EH"
      },
      "source": [
        "Now, let's calculate the agreement of the validation images with the templates."
      ]
    },
    {
      "cell_type": "code",
      "execution_count": null,
      "metadata": {
        "id": "xoYuC0yBa9EH"
      },
      "outputs": [],
      "source": [
        "agreement = None\n",
        "expected_result = torch.load(f'{control_folder}/mnist_agreement.pt')\n",
        "\n",
        "##########################################################################\n",
        "# TODO: Calculate the agreement of the template_images with the          #\n",
        "#  validation_images as a dot-product. You can use torch.einsum          #\n",
        "#  to do this effectively in one line.                                   #\n",
        "#                                                                        #\n",
        "#  template_images has shape (10, 28, 28),                               #\n",
        "#  validation_images has shape (N_val, 28, 28) and                       #\n",
        "#  the output shape should be (N_val, 10).                               #\n",
        "##########################################################################\n",
        "\n",
        "# Replace \"pass\" statement with your code\n",
        "pass\n",
        "\n",
        "##########################################################################\n",
        "#               END OF YOUR CODE                                         #\n",
        "##########################################################################\n",
        "\n",
        "print(agreement.shape)\n",
        "assert torch.allclose(agreement, expected_result)"
      ]
    },
    {
      "cell_type": "code",
      "execution_count": null,
      "metadata": {
        "id": "SNMa9jAaa9EH"
      },
      "outputs": [],
      "source": [
        "validation_guess = None\n",
        "expected_result = torch.load(f'{control_folder}/mnist_validation_guess.pt')\n",
        "\n",
        "##########################################################################\n",
        "# TODO: assign each validation image to the class label with             #\n",
        "#  the biggest score. You can use torch.argmax for this.                 #\n",
        "##########################################################################\n",
        "\n",
        "# Replace \"pass\" statement with your code\n",
        "pass\n",
        "\n",
        "##########################################################################\n",
        "#               END OF YOUR CODE                                         #\n",
        "##########################################################################\n",
        "\n",
        "assert torch.allclose(validation_guess, expected_result)"
      ]
    },
    {
      "cell_type": "markdown",
      "metadata": {
        "id": "cgSWKji3a9EH"
      },
      "source": [
        "Last, let's check how good our classification was. Calculate how many times our guess agreed with the label on average."
      ]
    },
    {
      "cell_type": "code",
      "execution_count": null,
      "metadata": {
        "id": "MPHeco_ia9EI"
      },
      "outputs": [],
      "source": [
        "accuracy = None\n",
        "##########################################################################\n",
        "# TODO: Compare our validation_guess with the validation_labels and      #\n",
        "#  calculate how many times they were equal on average.                  #\n",
        "##########################################################################\n",
        "\n",
        "# Replace \"pass\" statement with your code\n",
        "pass\n",
        "\n",
        "##########################################################################\n",
        "#               END OF YOUR CODE                                         #\n",
        "##########################################################################\n",
        "print(accuracy)\n"
      ]
    },
    {
      "cell_type": "markdown",
      "metadata": {
        "id": "g0C9hyYla9EI"
      },
      "source": [
        "That's an accuracy above 80% and quite a strong baseline to beat. Our method of calculating average images and using them as filters works really well for this use-case. This is in part because the MNIST-Dataset entries are size-normalized and centered, which makes them a good target for this approach.\n",
        "\n"
      ]
    },
    {
      "cell_type": "markdown",
      "metadata": {
        "id": "7KyAcwl8a9EI"
      },
      "source": [
        "### Conclusion\n",
        "\n",
        "This notebook provided a solid introduction to tensor manipulations in PyTorch. Remember, learning is an ongoing process, and even experienced developers continually expand their knowledge base. The skills you practiced here will be valuable as you encounter new challenges.\n",
        "\n",
        "Next, we'll explore the fundamentals of machine learning by building a feed-forward classifier for handwritten digits. We'll introduce the concept of feature hierarchies, where multiple layers learn to identify increasingly complex patterns. You'll also learn gradient descent – a cornerstone technique for optimizing machine learning models.\n",
        "\n",
        "Following that, we'll delve into attention mechanisms (you've already seen the basics with scaled dot-product attention!) and apply them to construct a key AlphaFold component: MultiHeadAttention.\n",
        "\n",
        "Finally, we'll start implementing AlphaFold's core architecture. Congratulations on making it so far! Stay tuned as we embark on this exciting journey."
      ]
    }
  ],
  "metadata": {
    "colab": {
      "provenance": []
    },
    "language_info": {
      "name": "python"
    },
    "kernelspec": {
      "name": "python3",
      "display_name": "Python 3"
    }
  },
  "nbformat": 4,
  "nbformat_minor": 0
}